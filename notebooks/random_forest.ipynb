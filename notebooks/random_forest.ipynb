{
 "cells": [
  {
   "cell_type": "code",
   "execution_count": 5,
   "metadata": {
    "collapsed": false
   },
   "outputs": [],
   "source": [
    "import pandas as pd\n",
    "import numpy as np\n",
    "import matplotlib.pyplot as plt\n",
    "import sklearn.grid_search as gs\n",
    "import sklearn.cross_validation as cv\n",
    "from sklearn import datasets\n",
    "from sklearn import tree\n",
    "import sklearn.grid_search as gs\n",
    "import math\n",
    "from time import time\n",
    "from sklearn import ensemble\n",
    "%matplotlib inline\n",
    "pd.options.display.max_columns = 200"
   ]
  },
  {
   "cell_type": "code",
   "execution_count": 6,
   "metadata": {
    "collapsed": false
   },
   "outputs": [],
   "source": [
    "# import preprocessed data\n",
    "\n",
    "test_basic_df = pd.read_csv('./test_basic.csv')\n",
    "test_basic_df.drop(labels = 'Unnamed: 0', axis = 1, inplace = True)\n",
    "\n",
    "train_basic_df = pd.read_csv('./train_basic.csv')\n",
    "train_basic_df.drop(labels = 'Unnamed: 0', axis = 1, inplace = True)\n",
    "\n",
    "test_components_df = pd.read_csv('./test_components.csv')\n",
    "test_components_df.drop(labels = 'Unnamed: 0', axis = 1, inplace = True)\n",
    "\n",
    "train_components_df = pd.read_csv('./train_components.csv')\n",
    "train_components_df.drop(labels = 'Unnamed: 0', axis = 1, inplace = True)\n",
    "\n",
    "test_id_df = pd.read_csv('./test_id.csv')\n",
    "test_id_df.drop(labels = 'Unnamed: 0', axis = 1, inplace = True)\n",
    "\n",
    "cost_df = pd.read_csv('./cost.csv')\n",
    "cost_df.drop(labels = 'Unnamed: 0', axis = 1, inplace = True)"
   ]
  },
  {
   "cell_type": "markdown",
   "metadata": {},
   "source": [
    "# Random Forest on Basic"
   ]
  },
  {
   "cell_type": "code",
   "execution_count": 4,
   "metadata": {
    "collapsed": false
   },
   "outputs": [],
   "source": [
    "# prepare basic training and validation arrays for fitting\n",
    "X_basic = np.array(train_basic_df)\n",
    "y = np.array(cost_df)"
   ]
  },
  {
   "cell_type": "code",
   "execution_count": 35,
   "metadata": {
    "collapsed": false
   },
   "outputs": [
    {
     "data": {
      "text/plain": [
       "2898.55384516716"
      ]
     },
     "execution_count": 35,
     "metadata": {},
     "output_type": "execute_result"
    }
   ],
   "source": [
    "# random forest initialization and fitting\n",
    "# \n",
    "randomForest_basic = ensemble.RandomForestRegressor(n_estimators = 1000,\n",
    "                                                    max_features = 'sqrt')\n",
    "# try cross validation and grid search to improve forest\n",
    "np.random.seed(0)\n",
    "grid_para_forest_basic = [{'max_leaf_nodes': np.linspace(start = 2,\n",
    "                                                        stop = 700,\n",
    "                                                        num = 15)}]\n",
    "grid_search_forest_basic = gs.GridSearchCV(estimator = randomForest_basic,\n",
    "                                         param_grid = grid_para_forest_basic,\n",
    "                                         cv = 10)\n",
    "t0 = time()\n",
    "grid_search_forest_basic.fit(X_basic, y.ravel())\n",
    "t1 = time()\n",
    "t1 - t0"
   ]
  },
  {
   "cell_type": "code",
   "execution_count": 36,
   "metadata": {
    "collapsed": false
   },
   "outputs": [
    {
     "data": {
      "text/plain": [
       "{'min_samples_leaf': 1, 'min_samples_split': 2.0, 'n_estimators': 100}"
      ]
     },
     "execution_count": 36,
     "metadata": {},
     "output_type": "execute_result"
    }
   ],
   "source": [
    "grid_search_forest_basic.best_params_"
   ]
  },
  {
   "cell_type": "code",
   "execution_count": 37,
   "metadata": {
    "collapsed": false
   },
   "outputs": [
    {
     "data": {
      "text/plain": [
       "0.60560321334336686"
      ]
     },
     "execution_count": 37,
     "metadata": {},
     "output_type": "execute_result"
    }
   ],
   "source": [
    "grid_search_forest_basic.best_score_"
   ]
  },
  {
   "cell_type": "code",
   "execution_count": 38,
   "metadata": {
    "collapsed": false
   },
   "outputs": [
    {
     "data": {
      "text/plain": [
       "0.9677474991090399"
      ]
     },
     "execution_count": 38,
     "metadata": {},
     "output_type": "execute_result"
    }
   ],
   "source": [
    "grid_search_forest_basic.score(X_basic, y)"
   ]
  },
  {
   "cell_type": "code",
   "execution_count": 39,
   "metadata": {
    "collapsed": false
   },
   "outputs": [],
   "source": [
    "cost_basic_df = pd.DataFrame(data = grid_search_forest_basic.predict(np.array(test_basic_df)),\n",
    "                            columns = ['cost'])\n",
    "basic_predictions_df = pd.concat(objs = [test_id_df, cost_basic_df], axis = 1)\n",
    "basic_predictions_df.to_csv('./random_forest_basic_predictions.csv',\n",
    "                           index = False)\n",
    "# paramters: {'min_samples_leaf': 1, 'min_samples_split': 2.0, 'n_estimators': 10}; test_size = 0.20; score: 0.359864; rank 981/1324\n",
    "# paramters: {'min_samples_leaf': 1, 'min_samples_split': 2.0, 'n_estimators': 10}; test_size = 0.01; score: 0.351449; rank 976/1324\n",
    "# started using all data to cross-validate parameters\n",
    "# paramters: {'min_samples_leaf': 1, 'min_samples_split': 2.0, 'n_estimators': 100}; score: 0.326865; rank 953/1324\n",
    "# paramters: {'max_leaf_nodes': 700, 'n_estimators': 1000}; score: 0.504153; rank 1134/1324"
   ]
  },
  {
   "cell_type": "markdown",
   "metadata": {},
   "source": [
    "# Random Forest on Components"
   ]
  },
  {
   "cell_type": "code",
   "execution_count": 7,
   "metadata": {
    "collapsed": false
   },
   "outputs": [],
   "source": [
    "# prepare components training and validation arrays for fitting\n",
    "X_components = np.array(train_components_df)\n",
    "y = np.array(cost_df)"
   ]
  },
  {
   "cell_type": "code",
   "execution_count": 18,
   "metadata": {
    "collapsed": false
   },
   "outputs": [
    {
     "data": {
      "text/plain": [
       "3404.996260881424"
      ]
     },
     "execution_count": 18,
     "metadata": {},
     "output_type": "execute_result"
    }
   ],
   "source": [
    "# Start with a single decision tree\n",
    "randomForest_components = ensemble.RandomForestRegressor(n_estimators = 1000,\n",
    "                                                         max_features = 'sqrt')\n",
    "# try cross validation and grid search to improve tree\n",
    "np.random.seed(0)\n",
    "grid_para_forest_components = [{'max_leaf_nodes': np.linspace(start = 2,\n",
    "                                                        stop = 700,\n",
    "                                                        num = 15).astype(dtype = int)}]\n",
    "grid_search_forest_components = gs.GridSearchCV(estimator = randomForest_components,\n",
    "                                         param_grid = grid_para_forest_components,\n",
    "                                         cv = 10)\n",
    "t0 = time()\n",
    "grid_search_forest_components.fit(X_components, y.ravel())\n",
    "t1 = time()\n",
    "t1 - t0"
   ]
  },
  {
   "cell_type": "code",
   "execution_count": 19,
   "metadata": {
    "collapsed": false
   },
   "outputs": [
    {
     "data": {
      "text/plain": [
       "{'max_leaf_nodes': 650}"
      ]
     },
     "execution_count": 19,
     "metadata": {},
     "output_type": "execute_result"
    }
   ],
   "source": [
    "grid_search_forest_components.best_params_"
   ]
  },
  {
   "cell_type": "code",
   "execution_count": 20,
   "metadata": {
    "collapsed": false
   },
   "outputs": [
    {
     "data": {
      "text/plain": [
       "0.576961767089051"
      ]
     },
     "execution_count": 20,
     "metadata": {},
     "output_type": "execute_result"
    }
   ],
   "source": [
    "grid_search_forest_components.best_score_"
   ]
  },
  {
   "cell_type": "code",
   "execution_count": 21,
   "metadata": {
    "collapsed": false
   },
   "outputs": [
    {
     "data": {
      "text/plain": [
       "0.91686633590347699"
      ]
     },
     "execution_count": 21,
     "metadata": {},
     "output_type": "execute_result"
    }
   ],
   "source": [
    "grid_search_forest_components.score(X_components, y)"
   ]
  },
  {
   "cell_type": "code",
   "execution_count": 22,
   "metadata": {
    "collapsed": false
   },
   "outputs": [],
   "source": [
    "cost_components_df = pd.DataFrame(data = grid_search_forest_components.\\\n",
    "                                  predict(np.array(test_components_df)),\n",
    "                            columns = ['cost'])\n",
    "components_predictions_df = pd.concat(objs = [test_id_df, cost_components_df], axis = 1)\n",
    "components_predictions_df.to_csv('./random_forest_components_predictions.csv',\n",
    "                           index = False)\n",
    "# paramters: {'min_samples_leaf': 1, 'min_samples_split': 2.0, 'n_estimators': 100}; score: 0.318257; rank 950/1324\n",
    "# paramters: {'max_leaf_nodes': 650}; score: 0.490001; rank 1120/1324"
   ]
  },
  {
   "cell_type": "code",
   "execution_count": null,
   "metadata": {
    "collapsed": true
   },
   "outputs": [],
   "source": []
  }
 ],
 "metadata": {
  "kernelspec": {
   "display_name": "Python 2",
   "language": "python",
   "name": "python2"
  },
  "language_info": {
   "codemirror_mode": {
    "name": "ipython",
    "version": 2
   },
   "file_extension": ".py",
   "mimetype": "text/x-python",
   "name": "python",
   "nbconvert_exporter": "python",
   "pygments_lexer": "ipython2",
   "version": "2.7.11"
  }
 },
 "nbformat": 4,
 "nbformat_minor": 0
}
