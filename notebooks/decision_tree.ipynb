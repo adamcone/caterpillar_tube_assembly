{
 "cells": [
  {
   "cell_type": "code",
   "execution_count": 4,
   "metadata": {
    "collapsed": false
   },
   "outputs": [],
   "source": [
    "import pandas as pd\n",
    "import numpy as np\n",
    "import matplotlib.pyplot as plt\n",
    "import sklearn.grid_search as gs\n",
    "import sklearn.cross_validation as cv\n",
    "from sklearn import datasets\n",
    "from sklearn import tree\n",
    "import sklearn.grid_search as gs\n",
    "import math\n",
    "from time import time\n",
    "%matplotlib inline\n",
    "pd.options.display.max_columns = 200"
   ]
  },
  {
   "cell_type": "code",
   "execution_count": 5,
   "metadata": {
    "collapsed": false
   },
   "outputs": [],
   "source": [
    "# import preprocessed data\n",
    "\n",
    "test_basic_df = pd.read_csv('./test_basic.csv')\n",
    "test_basic_df.drop(labels = 'Unnamed: 0', axis = 1, inplace = True)\n",
    "\n",
    "train_basic_df = pd.read_csv('./train_basic.csv')\n",
    "train_basic_df.drop(labels = 'Unnamed: 0', axis = 1, inplace = True)\n",
    "\n",
    "test_components_df = pd.read_csv('./test_components.csv')\n",
    "test_components_df.drop(labels = 'Unnamed: 0', axis = 1, inplace = True)\n",
    "\n",
    "train_components_df = pd.read_csv('./train_components.csv')\n",
    "train_components_df.drop(labels = 'Unnamed: 0', axis = 1, inplace = True)\n",
    "\n",
    "test_id_df = pd.read_csv('./test_id.csv')\n",
    "test_id_df.drop(labels = 'Unnamed: 0', axis = 1, inplace = True)\n",
    "\n",
    "cost_df = pd.read_csv('./cost.csv')\n",
    "cost_df.drop(labels = 'Unnamed: 0', axis = 1, inplace = True)"
   ]
  },
  {
   "cell_type": "markdown",
   "metadata": {},
   "source": [
    "# Decision Tree on Basic"
   ]
  },
  {
   "cell_type": "code",
   "execution_count": 7,
   "metadata": {
    "collapsed": false
   },
   "outputs": [],
   "source": [
    "# prepare basic training and validation arrays for fitting\n",
    "X_basic = np.array(train_basic_df)\n",
    "y = np.array(cost_df)"
   ]
  },
  {
   "cell_type": "code",
   "execution_count": 125,
   "metadata": {
    "collapsed": false
   },
   "outputs": [
    {
     "data": {
      "text/plain": [
       "254.3338418006897"
      ]
     },
     "execution_count": 125,
     "metadata": {},
     "output_type": "execute_result"
    }
   ],
   "source": [
    "# Start with a single decision tree\n",
    "tree_model_basic = tree.DecisionTreeRegressor()\n",
    "# try cross validation and grid search to improve tree\n",
    "np.random.seed(0)\n",
    "grid_para_tree_basic = [{'max_leaf_nodes': range(2, 1800)}]\n",
    "grid_search_tree_basic = gs.GridSearchCV(tree_model_basic,\n",
    "                                         grid_para_tree_basic,\n",
    "                                         cv = 10)\n",
    "t0 = time()\n",
    "grid_search_tree_basic.fit(X_basic, y)\n",
    "t1 = time()\n",
    "t1 - t0"
   ]
  },
  {
   "cell_type": "code",
   "execution_count": 16,
   "metadata": {
    "collapsed": false
   },
   "outputs": [
    {
     "ename": "NameError",
     "evalue": "name 'grid_search_tree_basic' is not defined",
     "output_type": "error",
     "traceback": [
      "\u001b[0;31m---------------------------------------------------------------------------\u001b[0m",
      "\u001b[0;31mNameError\u001b[0m                                 Traceback (most recent call last)",
      "\u001b[0;32m<ipython-input-16-a9fe6f832e03>\u001b[0m in \u001b[0;36m<module>\u001b[0;34m()\u001b[0m\n\u001b[0;32m----> 1\u001b[0;31m \u001b[0mgrid_search_tree_basic\u001b[0m\u001b[0;34m.\u001b[0m\u001b[0mbest_params_\u001b[0m\u001b[0;34m\u001b[0m\u001b[0m\n\u001b[0m",
      "\u001b[0;31mNameError\u001b[0m: name 'grid_search_tree_basic' is not defined"
     ]
    }
   ],
   "source": [
    "grid_search_tree_basic.best_params_"
   ]
  },
  {
   "cell_type": "code",
   "execution_count": 127,
   "metadata": {
    "collapsed": false
   },
   "outputs": [
    {
     "data": {
      "text/plain": [
       "0.5612669621548354"
      ]
     },
     "execution_count": 127,
     "metadata": {},
     "output_type": "execute_result"
    }
   ],
   "source": [
    "grid_search_tree_basic.best_score_"
   ]
  },
  {
   "cell_type": "code",
   "execution_count": 128,
   "metadata": {
    "collapsed": false
   },
   "outputs": [
    {
     "data": {
      "text/plain": [
       "0.84153046044177471"
      ]
     },
     "execution_count": 128,
     "metadata": {},
     "output_type": "execute_result"
    }
   ],
   "source": [
    "grid_search_tree_basic.score(X_basic, y)"
   ]
  },
  {
   "cell_type": "code",
   "execution_count": 129,
   "metadata": {
    "collapsed": false
   },
   "outputs": [],
   "source": [
    "cost_basic_df = pd.DataFrame(data = grid_search_tree_basic.predict(np.array(test_basic_df)),\n",
    "                            columns = ['cost'])\n",
    "basic_predictions_df = pd.concat(objs = [test_id_df, cost_basic_df], axis = 1)\n",
    "basic_predictions_df.to_csv('./decision_tree_basic_predictions.csv',\n",
    "                           index = False)\n",
    "# paramters: {'min_samples_leaf': 2, 'min_samples_split': 2.0}; score: 0.364173; test_size = 0.20; rank 999/1324\n",
    "# paramters: {'min_samples_leaf': 4, 'min_samples_split': 7.333333333333333}; test_size = 0.20; score: 0.358763; rank 978/1324\n",
    "# paramters: {'min_samples_leaf': 2, 'min_samples_split': 23.333333333333332}; test_size = 0.01; score: 0.344002; rank 970/1324\n",
    "# started using all training data for cross-validation\n",
    "# paramters: {'min_samples_leaf': 3, 'min_samples_split': 7.333333333333333}; score: 0.358205; rank 977/1324\n",
    "# paramters: {'max_leaf_nodes': 86}; score: 0.467373; rank 1109/1324\n",
    "# paramters: {'max_leaf_nodes': 280}; score: 0.404779; rank 1068/1324"
   ]
  },
  {
   "cell_type": "markdown",
   "metadata": {},
   "source": [
    "# Decision Tree on Components"
   ]
  },
  {
   "cell_type": "code",
   "execution_count": 21,
   "metadata": {
    "collapsed": false
   },
   "outputs": [],
   "source": [
    "# prepare basic training and validation arrays for fitting\n",
    "X_components = np.array(train_components_df)\n",
    "y = np.array(cost_df)"
   ]
  },
  {
   "cell_type": "code",
   "execution_count": 22,
   "metadata": {
    "collapsed": false
   },
   "outputs": [
    {
     "data": {
      "text/plain": [
       "4693.927708864212"
      ]
     },
     "execution_count": 22,
     "metadata": {},
     "output_type": "execute_result"
    }
   ],
   "source": [
    "# Start with a single decision tree\n",
    "tree_model_components = tree.DecisionTreeRegressor()\n",
    "# try cross validation and grid search to improve tree\n",
    "np.random.seed(0)\n",
    "grid_para_tree_components = [{'max_leaf_nodes': range(2, 1000)}]\n",
    "grid_search_tree_components = gs.GridSearchCV(tree_model_components,\n",
    "                                              grid_para_tree_components,\n",
    "                                              cv = 10)\n",
    "t0 = time()\n",
    "grid_search_tree_components.fit(X_components, y)\n",
    "t1 = time()\n",
    "t1 - t0"
   ]
  },
  {
   "cell_type": "code",
   "execution_count": 23,
   "metadata": {
    "collapsed": false
   },
   "outputs": [
    {
     "data": {
      "text/plain": [
       "{'max_leaf_nodes': 9}"
      ]
     },
     "execution_count": 23,
     "metadata": {},
     "output_type": "execute_result"
    }
   ],
   "source": [
    "grid_search_tree_components.best_params_"
   ]
  },
  {
   "cell_type": "code",
   "execution_count": 24,
   "metadata": {
    "collapsed": false
   },
   "outputs": [
    {
     "data": {
      "text/plain": [
       "0.39370877800533288"
      ]
     },
     "execution_count": 24,
     "metadata": {},
     "output_type": "execute_result"
    }
   ],
   "source": [
    "grid_search_tree_components.best_score_"
   ]
  },
  {
   "cell_type": "code",
   "execution_count": 25,
   "metadata": {
    "collapsed": false
   },
   "outputs": [
    {
     "data": {
      "text/plain": [
       "0.51944479371100682"
      ]
     },
     "execution_count": 25,
     "metadata": {},
     "output_type": "execute_result"
    }
   ],
   "source": [
    "grid_search_tree_components.score(X_components, y)"
   ]
  },
  {
   "cell_type": "code",
   "execution_count": 26,
   "metadata": {
    "collapsed": false
   },
   "outputs": [],
   "source": [
    "cost_components_df = pd.DataFrame(data = grid_search_tree_components.\\\n",
    "                                  predict(np.array(test_components_df)),\n",
    "                            columns = ['cost'])\n",
    "components_predictions_df = pd.concat(objs = [test_id_df, cost_components_df], axis = 1)\n",
    "components_predictions_df.to_csv('./decision_tree_components_predictions.csv',\n",
    "                           index = False)\n",
    "# parameters: {'min_samples_leaf': 4, 'min_samples_split': 2.0}; test_size = 0.20; score: 0.349347; rank 975/1324\n",
    "# parameters: {'min_samples_leaf': 4, 'min_samples_split': 23.333333333333332}; test_size = 0.01; score: 0.333676; rank 958/1324\n",
    "# started using all training data for cross-validation\n",
    "# paramters: {'min_samples_leaf': 2, 'min_samples_split': 18.0}; score: 0.336359; rank 961/1324\n",
    "# parameters: {'max_leaf_nodes': 9}; score: 0.630126; 1181/1324"
   ]
  },
  {
   "cell_type": "code",
   "execution_count": null,
   "metadata": {
    "collapsed": true
   },
   "outputs": [],
   "source": []
  }
 ],
 "metadata": {
  "kernelspec": {
   "display_name": "Python 2",
   "language": "python",
   "name": "python2"
  },
  "language_info": {
   "codemirror_mode": {
    "name": "ipython",
    "version": 2
   },
   "file_extension": ".py",
   "mimetype": "text/x-python",
   "name": "python",
   "nbconvert_exporter": "python",
   "pygments_lexer": "ipython2",
   "version": "2.7.11"
  }
 },
 "nbformat": 4,
 "nbformat_minor": 0
}
