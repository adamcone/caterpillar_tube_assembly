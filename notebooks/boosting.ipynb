{
 "cells": [
  {
   "cell_type": "code",
   "execution_count": 3,
   "metadata": {
    "collapsed": true
   },
   "outputs": [],
   "source": [
    "import pandas as pd\n",
    "import numpy as np\n",
    "import matplotlib.pyplot as plt\n",
    "import sklearn.grid_search as gs\n",
    "import sklearn.cross_validation as cv\n",
    "from sklearn import datasets\n",
    "from sklearn import tree\n",
    "import sklearn.grid_search as gs\n",
    "import math\n",
    "from time import time\n",
    "from sklearn.metrics import mean_squared_error\n",
    "from sklearn.ensemble import GradientBoostingRegressor\n",
    "%matplotlib inline\n",
    "pd.options.display.max_columns = 200"
   ]
  },
  {
   "cell_type": "code",
   "execution_count": 4,
   "metadata": {
    "collapsed": false
   },
   "outputs": [],
   "source": [
    "# import preprocessed data\n",
    "\n",
    "test_basic_df = pd.read_csv('./test_basic.csv')\n",
    "test_basic_df.drop(labels = 'Unnamed: 0', axis = 1, inplace = True)\n",
    "\n",
    "train_basic_df = pd.read_csv('./train_basic.csv')\n",
    "train_basic_df.drop(labels = 'Unnamed: 0', axis = 1, inplace = True)\n",
    "\n",
    "test_components_df = pd.read_csv('./test_components.csv')\n",
    "test_components_df.drop(labels = 'Unnamed: 0', axis = 1, inplace = True)\n",
    "\n",
    "train_components_df = pd.read_csv('./train_components.csv')\n",
    "train_components_df.drop(labels = 'Unnamed: 0', axis = 1, inplace = True)\n",
    "\n",
    "test_id_df = pd.read_csv('./test_id.csv')\n",
    "test_id_df.drop(labels = 'Unnamed: 0', axis = 1, inplace = True)\n",
    "\n",
    "cost_df = pd.read_csv('./cost.csv')\n",
    "cost_df.drop(labels = 'Unnamed: 0', axis = 1, inplace = True)"
   ]
  },
  {
   "cell_type": "markdown",
   "metadata": {},
   "source": [
    "# Boosting on Basic"
   ]
  },
  {
   "cell_type": "code",
   "execution_count": 12,
   "metadata": {
    "collapsed": false
   },
   "outputs": [],
   "source": [
    "# prepare basic training and validation arrays for fitting\n",
    "X_basic = np.array(train_basic_df)\n",
    "y = np.array(cost_df)"
   ]
  },
  {
   "cell_type": "code",
   "execution_count": 27,
   "metadata": {
    "collapsed": false
   },
   "outputs": [
    {
     "data": {
      "text/plain": [
       "1020.0196969509125"
      ]
     },
     "execution_count": 27,
     "metadata": {},
     "output_type": "execute_result"
    }
   ],
   "source": [
    "# initialize boosting tree object\n",
    "gradientBoost = GradientBoostingRegressor(n_estimators = 1000,\n",
    "                                          max_leaf_nodes = 2,\n",
    "                                          loss = 'ls')\n",
    "\n",
    "# try cross validation and grid search to improve boosting tree object\n",
    "np.random.seed(0)\n",
    "learning_rate_paramter_list = map(math.exp,\n",
    "                                  np.linspace(start = math.log(0.001),\n",
    "                                              stop = math.log(0.01),\n",
    "                                              num = 3))\n",
    "grid_para_boost_basic = [{'learning_rate': learning_rate_paramter_list}]\n",
    "grid_search_boost_basic = gs.GridSearchCV(gradientBoost,\n",
    "                                         grid_para_boost_basic,\n",
    "                                         cv = 10)\n",
    "t0 = time()\n",
    "grid_search_boost_basic.fit(X_basic, y.ravel())\n",
    "t1 = time()\n",
    "t1 - t0"
   ]
  },
  {
   "cell_type": "code",
   "execution_count": 28,
   "metadata": {
    "collapsed": false
   },
   "outputs": [
    {
     "data": {
      "text/plain": [
       "{'learning_rate': 0.010000000000000004,\n",
       " 'max_leaf_nodes': 2,\n",
       " 'n_estimators': 100}"
      ]
     },
     "execution_count": 28,
     "metadata": {},
     "output_type": "execute_result"
    }
   ],
   "source": [
    "grid_search_boost_basic.best_params_"
   ]
  },
  {
   "cell_type": "code",
   "execution_count": 29,
   "metadata": {
    "collapsed": false
   },
   "outputs": [
    {
     "data": {
      "text/plain": [
       "0.14245452792728699"
      ]
     },
     "execution_count": 29,
     "metadata": {},
     "output_type": "execute_result"
    }
   ],
   "source": [
    "grid_search_boost_basic.best_score_"
   ]
  },
  {
   "cell_type": "code",
   "execution_count": 30,
   "metadata": {
    "collapsed": false
   },
   "outputs": [
    {
     "data": {
      "text/plain": [
       "0.17063581073000389"
      ]
     },
     "execution_count": 30,
     "metadata": {},
     "output_type": "execute_result"
    }
   ],
   "source": [
    "grid_search_boost_basic.score(X_basic, y)"
   ]
  },
  {
   "cell_type": "code",
   "execution_count": 31,
   "metadata": {
    "collapsed": false
   },
   "outputs": [],
   "source": [
    "cost_basic_df = pd.DataFrame(data = grid_search_boost_basic.predict(np.array(test_basic_df)),\n",
    "                            columns = ['cost'])\n",
    "basic_predictions_df = pd.concat(objs = [test_id_df, cost_basic_df], axis = 1)\n",
    "basic_predictions_df.to_csv('./gradient_boost_basic_predictions.csv',\n",
    "                           index = False)\n",
    "# paramters: {'learning_rate': 0.010000000000000004,\n",
    "# 'max_leaf_nodes': 4,\n",
    "# 'n_estimators': 10}; score: 0.913520; rank 1236/1324\n",
    "# paramters: {'learning_rate': 0.010000000000000004,\n",
    "# 'max_leaf_nodes': 2,\n",
    "# 'n_estimators': 100}; score: 0.822071; rank 1224/1324"
   ]
  },
  {
   "cell_type": "markdown",
   "metadata": {},
   "source": [
    "# Boosting on Components"
   ]
  },
  {
   "cell_type": "code",
   "execution_count": 5,
   "metadata": {
    "collapsed": false
   },
   "outputs": [],
   "source": [
    "# prepare basic training and validation arrays for fitting\n",
    "X_components = np.array(train_components_df)\n",
    "y = np.array(cost_df)"
   ]
  },
  {
   "cell_type": "code",
   "execution_count": 6,
   "metadata": {
    "collapsed": false
   },
   "outputs": [
    {
     "data": {
      "text/plain": [
       "2022.0847129821777"
      ]
     },
     "execution_count": 6,
     "metadata": {},
     "output_type": "execute_result"
    }
   ],
   "source": [
    "# initialize boosting tree object\n",
    "gradientBoost = GradientBoostingRegressor(n_estimators = 1000,\n",
    "                                          max_leaf_nodes = 2,\n",
    "                                          loss = 'ls')\n",
    "\n",
    "# try cross validation and grid search to improve boosting tree object\n",
    "np.random.seed(0)\n",
    "learning_rate_paramter_list = map(math.exp,\n",
    "                                  np.linspace(start = math.log(0.001),\n",
    "                                              stop = math.log(0.01),\n",
    "                                              num = 3))\n",
    "grid_para_boost_components = [{'learning_rate': learning_rate_paramter_list}]\n",
    "grid_search_boost_components = gs.GridSearchCV(gradientBoost,\n",
    "                                         grid_para_boost_components,\n",
    "                                         cv = 10)\n",
    "t0 = time()\n",
    "grid_search_boost_components.fit(X_components, y.ravel())\n",
    "t1 = time()\n",
    "t1 - t0"
   ]
  },
  {
   "cell_type": "code",
   "execution_count": 7,
   "metadata": {
    "collapsed": false
   },
   "outputs": [
    {
     "data": {
      "text/plain": [
       "{'learning_rate': 0.010000000000000004}"
      ]
     },
     "execution_count": 7,
     "metadata": {},
     "output_type": "execute_result"
    }
   ],
   "source": [
    "grid_search_boost_components.best_params_"
   ]
  },
  {
   "cell_type": "code",
   "execution_count": 8,
   "metadata": {
    "collapsed": false
   },
   "outputs": [
    {
     "data": {
      "text/plain": [
       "0.37663812421374143"
      ]
     },
     "execution_count": 8,
     "metadata": {},
     "output_type": "execute_result"
    }
   ],
   "source": [
    "grid_search_boost_components.best_score_"
   ]
  },
  {
   "cell_type": "code",
   "execution_count": 9,
   "metadata": {
    "collapsed": false
   },
   "outputs": [
    {
     "data": {
      "text/plain": [
       "0.4266698840567677"
      ]
     },
     "execution_count": 9,
     "metadata": {},
     "output_type": "execute_result"
    }
   ],
   "source": [
    "grid_search_boost_components.score(X_components, y)"
   ]
  },
  {
   "cell_type": "code",
   "execution_count": 12,
   "metadata": {
    "collapsed": false
   },
   "outputs": [],
   "source": [
    "cost_components_df = pd.DataFrame(data = grid_search_boost_components.\\\n",
    "                                  predict(np.array(test_components_df)),\n",
    "                            columns = ['cost'])\n",
    "components_predictions_df = pd.concat(objs = [test_id_df, cost_components_df], axis = 1)\n",
    "components_predictions_df.to_csv('./gradient_boost_components_predictions.csv',\n",
    "                           index = False)\n",
    "# paramters: {'learning_rate': 0.010000000000000004,\n",
    "# 'max_leaf_nodes': 2,\n",
    "# 'n_estimators': 100}; score: 0.822071; rank 1224/1324\n",
    "# paramters: {'learning_rate': 0.010000000000000004}; score: "
   ]
  }
 ],
 "metadata": {
  "kernelspec": {
   "display_name": "Python 2",
   "language": "python",
   "name": "python2"
  },
  "language_info": {
   "codemirror_mode": {
    "name": "ipython",
    "version": 2
   },
   "file_extension": ".py",
   "mimetype": "text/x-python",
   "name": "python",
   "nbconvert_exporter": "python",
   "pygments_lexer": "ipython2",
   "version": "2.7.11"
  }
 },
 "nbformat": 4,
 "nbformat_minor": 0
}
