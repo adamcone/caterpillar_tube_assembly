{
 "cells": [
  {
   "cell_type": "markdown",
   "metadata": {},
   "source": [
    "## Describing Variables"
   ]
  },
  {
   "cell_type": "code",
   "execution_count": 74,
   "metadata": {
    "collapsed": false
   },
   "outputs": [],
   "source": [
    "import pandas as pd\n",
    "import numpy as np\n",
    "import matplotlib.pyplot as plt\n",
    "import seaborn as sns\n",
    "from time import time\n",
    "%matplotlib inline\n",
    "pd.options.display.max_columns = 250"
   ]
  },
  {
   "cell_type": "code",
   "execution_count": 36,
   "metadata": {
    "collapsed": false
   },
   "outputs": [],
   "source": [
    "# import all 21 csvs\n",
    "\n",
    "bill_of_materials_df = pd.read_csv('../competition_data/bill_of_materials.csv')\n",
    "comp_adaptor_df = pd.read_csv('../competition_data/comp_adaptor.csv')\n",
    "comp_boss_df = pd.read_csv('../competition_data/comp_boss.csv')\n",
    "comp_elbow_df = pd.read_csv('../competition_data/comp_elbow.csv')\n",
    "comp_float_df = pd.read_csv('../competition_data/comp_float.csv')\n",
    "comp_hfl_df = pd.read_csv('../competition_data/comp_hfl.csv')\n",
    "comp_nut_df = pd.read_csv('../competition_data/comp_nut.csv')\n",
    "comp_other_df = pd.read_csv('../competition_data/comp_other.csv')\n",
    "comp_sleeve_df = pd.read_csv('../competition_data/comp_sleeve.csv')\n",
    "comp_straight_df = pd.read_csv('../competition_data/comp_straight.csv')\n",
    "comp_tee_df = pd.read_csv('../competition_data/comp_tee.csv')\n",
    "comp_threaded_df = pd.read_csv('../competition_data/comp_threaded.csv')\n",
    "components_df = pd.read_csv('../competition_data/components.csv')\n",
    "specs_df = pd.read_csv('../competition_data/specs.csv')\n",
    "test_set_df = pd.read_csv('../competition_data/test_set.csv')\n",
    "train_set_df = pd.read_csv('../competition_data/train_set.csv')\n",
    "tube_end_form_df = pd.read_csv('../competition_data/tube_end_form.csv')\n",
    "tube_df = pd.read_csv('../competition_data/tube.csv')\n",
    "type_component_df = pd.read_csv('../competition_data/type_component.csv')\n",
    "type_connection_df = pd.read_csv('../competition_data/type_connection.csv')\n",
    "type_end_form_df = pd.read_csv('../competition_data/type_end_form.csv')"
   ]
  },
  {
   "cell_type": "code",
   "execution_count": 37,
   "metadata": {
    "collapsed": false
   },
   "outputs": [],
   "source": [
    "# prepare test_set_df and train_set_df for concatenation\n",
    "test_id_series = test_set_df['id']\n",
    "test_set_df.drop(labels = 'id', axis = 1, inplace = True)\n",
    "train_cost_series = train_set_df['cost']\n",
    "train_set_df.drop(labels = 'cost', axis = 1, inplace = True)\n",
    "\n",
    "#concatenate test_set_df and train_set_df to create master_df, with test_set_df on top\n",
    "master_df = pd.concat(objs = [test_set_df, train_set_df], axis = 0)\n",
    "\n",
    "# next, format appropriately master_df\n",
    "master_df['tube_assembly_id'] = pd.Series(master_df['tube_assembly_id'], dtype = 'category')\n",
    "master_df['supplier'] = pd.Series(master_df['supplier'], dtype = 'category')\n",
    "master_df['bracket_pricing'] = pd.Series(master_df['bracket_pricing'], dtype = 'category')\n",
    "df = pd.to_datetime(master_df['quote_date'])\n",
    "df = df.to_frame()\n",
    "df['first_date'] = pd.Timestamp('19820922')\n",
    "master_df['quote_date'] = (df['quote_date'] - df['first_date']).dt.days"
   ]
  },
  {
   "cell_type": "code",
   "execution_count": 38,
   "metadata": {
    "collapsed": false
   },
   "outputs": [],
   "source": [
    "# format tube_df to prepare for joining with master_df\n",
    "tube_df['tube_assembly_id'] = pd.Series(tube_df['tube_assembly_id'], dtype = 'category')\n",
    "tube_df['material_id'] = pd.Series(tube_df['material_id'], dtype = 'category')\n",
    "tube_df['end_a_1x'] = pd.Series(tube_df['end_a_1x'], dtype = 'category')\n",
    "tube_df['end_a_2x'] = pd.Series(tube_df['end_a_2x'], dtype = 'category')\n",
    "tube_df['end_x_1x'] = pd.Series(tube_df['end_x_1x'], dtype = 'category')\n",
    "tube_df['end_x_2x'] = pd.Series(tube_df['end_x_2x'], dtype = 'category')\n",
    "tube_df['end_a'] = pd.Series(tube_df['end_a'], dtype = 'category')\n",
    "tube_df['end_x'] = pd.Series(tube_df['end_x'], dtype = 'category')\n",
    "# replace 9999.0 entries in bend_radius column with np.nan entries\n",
    "tube_df = tube_df.replace(9999.0, np.nan)\n",
    "tube_df = tube_df.replace('9999', 'other')"
   ]
  },
  {
   "cell_type": "code",
   "execution_count": 39,
   "metadata": {
    "collapsed": false
   },
   "outputs": [],
   "source": [
    "# left join master_df with tube_df\n",
    "result_1 = pd.merge(master_df,\n",
    "                    tube_df,\n",
    "                    left_on = 'tube_assembly_id',\n",
    "                    right_on = 'tube_assembly_id',\n",
    "                    how='left',\n",
    "                    sort=False)\n",
    "\n",
    "# left join with left = result_1 (master and tube) and right = specs_with_totals\n",
    "specs_only_df = specs_df.iloc[:, 1:11]\n",
    "specs_logical_df = ~specs_only_df.isnull()\n",
    "spec_totals = specs_logical_df.sum(axis = 1)\n",
    "specs_with_totals_df = specs_df.copy()\n",
    "specs_with_totals_df['spec_totals'] = spec_totals\n",
    "result_2 = result_1.merge(specs_with_totals_df[['tube_assembly_id', 'spec_totals']])\n",
    "\n",
    "# left join with left = result_2 (train, tube, and specs_with_totals) and right = bill_of_materials_summary_df\n",
    "bill_comp_types_df = bill_of_materials_df.iloc[:, (1,3,5,7,9,11,13,15)]\n",
    "bill_comp_types_logical_df = ~bill_comp_types_df.isnull()\n",
    "component_series = bill_comp_types_logical_df.sum(axis = 1)\n",
    "bill_comp_quants_df = bill_of_materials_df.iloc[:, (2,4,6,8,10,12,14,16)]\n",
    "quants_series = bill_comp_quants_df.sum(axis = 1)\n",
    "bill_of_materials_summary_df = bill_of_materials_df.copy()\n",
    "bill_of_materials_summary_df['type_totals'] = component_series\n",
    "bill_of_materials_summary_df['component_totals'] = quants_series\n",
    "result_3 = result_2.merge(bill_of_materials_summary_df[['tube_assembly_id', 'type_totals', 'component_totals']])\n",
    "master_df = result_3.copy()"
   ]
  },
  {
   "cell_type": "code",
   "execution_count": 40,
   "metadata": {
    "collapsed": false
   },
   "outputs": [],
   "source": [
    "# replace supplier column with indicator variable columns\n",
    "supplier_series = master_df['supplier']\n",
    "supplier_dummy_df = pd.get_dummies(data = supplier_series, prefix = 'supp', prefix_sep = '_')\n",
    "master_df.drop(labels = 'supplier', axis = 1, inplace = True)\n",
    "master_df = pd.concat(objs = [master_df, supplier_dummy_df], axis = 1)"
   ]
  },
  {
   "cell_type": "code",
   "execution_count": 41,
   "metadata": {
    "collapsed": false
   },
   "outputs": [],
   "source": [
    "# convert N/Y bracket pricing column to 0/1 \n",
    "bracket_pricing_series = master_df['bracket_pricing']\n",
    "master_df['bracket_pricing'] = bracket_pricing_series.replace(['No', 'Yes'], [0, 1])"
   ]
  },
  {
   "cell_type": "code",
   "execution_count": 42,
   "metadata": {
    "collapsed": false
   },
   "outputs": [],
   "source": [
    "# replace material_id column with dummy variable columns, including NA\n",
    "material_id_series = master_df['material_id']\n",
    "material_id_dummy_df = pd.get_dummies(data = material_id_series, prefix = 'mat', prefix_sep = '_', dummy_na = True)\n",
    "master_df.drop(labels = 'material_id', axis = 1, inplace = True)\n",
    "master_df = pd.concat(objs = [master_df, material_id_dummy_df], axis = 1)"
   ]
  },
  {
   "cell_type": "code",
   "execution_count": 43,
   "metadata": {
    "collapsed": false
   },
   "outputs": [],
   "source": [
    "# convert end_a_1x, end_a_2x, end_x_1x, end_x_2x columns to 0/1. \n",
    "master_df['end_a_1x'] = master_df['end_a_1x'].replace(['N', 'Y'], [0, 1])\n",
    "master_df['end_a_2x'] = master_df['end_a_2x'].replace(['N', 'Y'], [0, 1])\n",
    "master_df['end_x_1x'] = master_df['end_x_1x'].replace(['N', 'Y'], [0, 1])\n",
    "master_df['end_x_2x'] = master_df['end_x_2x'].replace(['N', 'Y'], [0, 1])"
   ]
  },
  {
   "cell_type": "code",
   "execution_count": 44,
   "metadata": {
    "collapsed": false
   },
   "outputs": [],
   "source": [
    "# replace end_a column with indicator variable columns\n",
    "end_a_series = master_df['end_a']\n",
    "end_a_dummy_df = pd.get_dummies(data = end_a_series, prefix = 'end_a', prefix_sep = '_')\n",
    "master_df.drop(labels = 'end_a', axis = 1, inplace = True)\n",
    "master_df = pd.concat(objs = [master_df, end_a_dummy_df], axis = 1)\n",
    "\n",
    "# replace end_x column with 24 indicator variable columns\n",
    "end_x_series = master_df['end_x']\n",
    "end_x_dummy_df = pd.get_dummies(data = end_x_series, prefix = 'end_x', prefix_sep = '_')\n",
    "master_df.drop(labels = 'end_x', axis = 1, inplace = True)\n",
    "master_df = pd.concat(objs = [master_df, end_x_dummy_df], axis = 1)"
   ]
  },
  {
   "cell_type": "code",
   "execution_count": 45,
   "metadata": {
    "collapsed": false
   },
   "outputs": [],
   "source": [
    "# it appears that there are 30 NaNs in bend_radius (18 in the test section and 12 in the train section)\n",
    "# we will impute these 30 values using the mean of the existing values.\n",
    "bend_radius_mean = master_df['bend_radius'].mean()\n",
    "master_df = master_df.fillna(value = bend_radius_mean)"
   ]
  },
  {
   "cell_type": "code",
   "execution_count": 46,
   "metadata": {
    "collapsed": true
   },
   "outputs": [],
   "source": [
    "# it appears that there are 2 '9999' component_ids in the bill_of_materials_df. We will\n",
    "# impute these with the most common component_id in bill_of_materials_df: 'C-1621'.\n",
    "bill_of_materials_df = bill_of_materials_df.replace('9999', 'C-1621')"
   ]
  },
  {
   "cell_type": "code",
   "execution_count": 47,
   "metadata": {
    "collapsed": false
   },
   "outputs": [
    {
     "name": "stdout",
     "output_type": "stream",
     "text": [
      "number of component IDs with repetition: 2047\n",
      "number of unique component IDs: 2047\n"
     ]
    }
   ],
   "source": [
    "#check whether sets are disjoint\n",
    "adaptor_set = comp_adaptor_df['component_id'].unique()\n",
    "boss_set = comp_boss_df['component_id'].unique()\n",
    "elbow_set = comp_elbow_df['component_id'].unique()\n",
    "float_set = comp_float_df['component_id'].unique()\n",
    "hfl_set = comp_hfl_df['component_id'].unique()\n",
    "nut_set = comp_nut_df['component_id'].unique()\n",
    "other_set = comp_other_df['component_id'].unique()\n",
    "sleeve_set = comp_sleeve_df['component_id'].unique()\n",
    "straight_set = comp_straight_df['component_id'].unique()\n",
    "tee_set = comp_tee_df['component_id'].unique()\n",
    "threaded_set = comp_threaded_df['component_id'].unique()\n",
    "\n",
    "# number of unique component IDs in all data frames\n",
    "all_components_list = list(adaptor_set) + list(boss_set) + list(elbow_set) + \\\n",
    "list(float_set) + list(hfl_set) + list(nut_set) + list(other_set) + \\\n",
    "list(sleeve_set) + list(straight_set) + list(tee_set) + list(threaded_set)\n",
    "unique_components_list = set(all_components_list)\n",
    "print 'number of component IDs with repetition: %d' % len(all_components_list)\n",
    "print 'number of unique component IDs: %d' % len(unique_components_list)"
   ]
  },
  {
   "cell_type": "code",
   "execution_count": 48,
   "metadata": {
    "collapsed": false
   },
   "outputs": [],
   "source": [
    "# build the lookup_component_df\n",
    "adaptor_str = np.array(['adaptor']* len(adaptor_set))\n",
    "boss_str = np.array(['boss']* len(boss_set))\n",
    "elbow_str = np.array(['elbow']* len(elbow_set))\n",
    "float_str = np.array(['float']* len(float_set))\n",
    "hfl_str = np.array(['hfl']* len(hfl_set))\n",
    "nut_str = np.array(['nut']* len(nut_set))\n",
    "other_str = np.array(['other']* len(other_set))\n",
    "sleeve_str = np.array(['sleeve']* len(sleeve_set))\n",
    "straight_str = np.array(['straight']* len(straight_set))\n",
    "tee_str = np.array(['tee']* len(tee_set))\n",
    "threaded_str = np.array(['threaded']* len(threaded_set))"
   ]
  },
  {
   "cell_type": "code",
   "execution_count": 49,
   "metadata": {
    "collapsed": false
   },
   "outputs": [],
   "source": [
    "component_id_array = np.concatenate((adaptor_set, boss_set, elbow_set, float_set, hfl_set, nut_set, other_set,\\\n",
    "                                     sleeve_set, straight_set, tee_set, threaded_set), axis=0)\n",
    "component_type_array = np.concatenate((adaptor_str, boss_str, elbow_str, float_str, hfl_str, nut_str, other_str,\\\n",
    "                                     sleeve_str, straight_str, tee_str, threaded_str), axis=0)"
   ]
  },
  {
   "cell_type": "code",
   "execution_count": 50,
   "metadata": {
    "collapsed": false
   },
   "outputs": [],
   "source": [
    "# build empty columns for component counts\n",
    "component_empty_df = pd.DataFrame(data = np.zeros(shape = (np.shape(bill_of_materials_df)[0], 11), dtype = int),\n",
    "                                  columns = ['adaptor', 'boss', 'elbow', 'float', 'hfl', 'nut', 'other', 'sleeve',\\\n",
    "                                             'straight', 'tee', 'threaded'])\n",
    "bill_of_materials_components_df = pd.concat(objs = [bill_of_materials_df, component_empty_df], axis = 1)"
   ]
  },
  {
   "cell_type": "code",
   "execution_count": 51,
   "metadata": {
    "collapsed": false
   },
   "outputs": [
    {
     "name": "stderr",
     "output_type": "stream",
     "text": [
      "/anaconda/lib/python2.7/site-packages/ipykernel/__main__.py:15: SettingWithCopyWarning: \n",
      "A value is trying to be set on a copy of a slice from a DataFrame\n",
      "\n",
      "See the caveats in the documentation: http://pandas.pydata.org/pandas-docs/stable/indexing.html#indexing-view-versus-copy\n"
     ]
    },
    {
     "name": "stdout",
     "output_type": "stream",
     "text": [
      "801.244221926\n"
     ]
    }
   ],
   "source": [
    "# now fill component counts\n",
    "component_id_column_names = ['component_id_1', 'component_id_2', 'component_id_3', 'component_id_4',\\\n",
    "                             'component_id_5', 'component_id_6', 'component_id_7', 'component_id_8']\n",
    "quantity_column_names = ['quantity_1', 'quantity_2', 'quantity_3', 'quantity_4',\\\n",
    "                             'quantity_5', 'quantity_6', 'quantity_7', 'quantity_8']\n",
    "t0 = time()\n",
    "for tube_assembly_id in bill_of_materials_components_df['tube_assembly_id']:\n",
    "    row_index = bill_of_materials_components_df[bill_of_materials_components_df['tube_assembly_id'] \\\n",
    "                                                == tube_assembly_id].index\n",
    "    row_index = row_index[0]\n",
    "    for i in range(8):\n",
    "        component_id = bill_of_materials_components_df[component_id_column_names[i]][row_index]\n",
    "        quantity = bill_of_materials_components_df[quantity_column_names[i]][row_index]\n",
    "        if isinstance(component_id, basestring):\n",
    "            # get component_id type\n",
    "            component_id_index = np.where(component_id_array == component_id)[0][0]\n",
    "            component_type = component_type_array[component_id_index]\n",
    "            bill_of_materials_components_df[component_type][row_index] += quantity\n",
    "        else:\n",
    "            break\n",
    "t1 = time()\n",
    "print t1-t0"
   ]
  },
  {
   "cell_type": "code",
   "execution_count": 83,
   "metadata": {
    "collapsed": false
   },
   "outputs": [],
   "source": [
    "# to be used instead of running the filling component counts cell as a shortcut\n",
    "#result_4 = pd.read_csv('./result_4.csv')\n",
    "#result_4.drop(labels = 'Unnamed: 0', axis = 1, inplace = True)"
   ]
  },
  {
   "cell_type": "code",
   "execution_count": 52,
   "metadata": {
    "collapsed": false
   },
   "outputs": [],
   "source": [
    "# left join master_df with component columns of bill_of_materials_components_df\n",
    "component_columns_df = bill_of_materials_components_df[['tube_assembly_id',\n",
    "                                                        'adaptor',\n",
    "                                                        'boss',\n",
    "                                                        'elbow',\n",
    "                                                        'float',\n",
    "                                                        'hfl',\n",
    "                                                        'nut',\n",
    "                                                        'other',\n",
    "                                                        'sleeve',\n",
    "                                                        'straight',\n",
    "                                                        'tee',\n",
    "                                                        'threaded']]\n",
    "result_4 = pd.merge(master_df,\n",
    "                    component_columns_df,\n",
    "                    left_on = 'tube_assembly_id',\n",
    "                    right_on = 'tube_assembly_id',\n",
    "                    how='left',\n",
    "                    sort=False)"
   ]
  },
  {
   "cell_type": "code",
   "execution_count": 86,
   "metadata": {
    "collapsed": true
   },
   "outputs": [],
   "source": [
    "result_4.drop(labels = 'tube_assembly_id', axis = 1, inplace = True)"
   ]
  },
  {
   "cell_type": "code",
   "execution_count": 89,
   "metadata": {
    "collapsed": true
   },
   "outputs": [],
   "source": [
    "result_4.to_csv('result_4.csv')"
   ]
  },
  {
   "cell_type": "code",
   "execution_count": 91,
   "metadata": {
    "collapsed": false
   },
   "outputs": [],
   "source": [
    "# get column names\n",
    "column_names = list(result_4.columns)\n",
    "# write six csvs:\n",
    "# 1. test_basic.csv (no component counts)\n",
    "test_basic_df = result_4.iloc[:30235, :158]\n",
    "test_basic_df.to_csv('test_basic.csv')\n",
    "# 2. train_basic.csv (no component counts)\n",
    "train_basic_df = result_4.iloc[30235:, :158]\n",
    "train_basic_df.to_csv('train_basic.csv')\n",
    "# 3. test_components.csv (with component counts)\n",
    "test_components_df = result_4.iloc[:30235, :]\n",
    "test_components_df.to_csv('test_components.csv')\n",
    "# 4. train_components.csv (with component counts)\n",
    "train_components_df = result_4.iloc[30235:, :]\n",
    "train_components_df.to_csv('train_components.csv')\n",
    "# 5. test_id.csv\n",
    "test_id_df = test_id_series.to_frame(name = 'id')\n",
    "test_id_df.to_csv('test_id.csv')\n",
    "# 6. responses.csv\n",
    "cost_df = train_cost_series.to_frame(name = 'cost')\n",
    "cost_df.to_csv('cost.csv')"
   ]
  }
 ],
 "metadata": {
  "kernelspec": {
   "display_name": "Python 2",
   "language": "python",
   "name": "python2"
  },
  "language_info": {
   "codemirror_mode": {
    "name": "ipython",
    "version": 2
   },
   "file_extension": ".py",
   "mimetype": "text/x-python",
   "name": "python",
   "nbconvert_exporter": "python",
   "pygments_lexer": "ipython2",
   "version": "2.7.11"
  }
 },
 "nbformat": 4,
 "nbformat_minor": 0
}
